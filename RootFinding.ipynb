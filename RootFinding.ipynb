{
  "nbformat": 4,
  "nbformat_minor": 0,
  "metadata": {
    "colab": {
      "name": "Lab_02_170042082_2020.ipynb",
      "provenance": [],
      "collapsed_sections": [],
      "include_colab_link": true
    },
    "kernelspec": {
      "name": "python3",
      "display_name": "Python 3"
    }
  },
  "cells": [
    {
      "cell_type": "markdown",
      "metadata": {
        "id": "view-in-github",
        "colab_type": "text"
      },
      "source": [
        "<a href=\"https://colab.research.google.com/github/SadatRafi11/NumericalMethodsUsingPython/blob/main/RootFinding.ipynb\" target=\"_parent\"><img src=\"https://colab.research.google.com/assets/colab-badge.svg\" alt=\"Open In Colab\"/></a>"
      ]
    },
    {
      "cell_type": "markdown",
      "metadata": {
        "id": "iGEwlD2aOu2q"
      },
      "source": [
        "\n",
        "<h1> Math 4544 Numerical Analysis Lab</h1>\n",
        "<h2> Lab 02 <h2>\n",
        "\n",
        "The Objectives of this weeks lab is to implement and understand different methods to find out the roots of non linear equation. At the successful completion of this lab you should be able to implement different methods of solving non linear equation and understand their basic workflow along with their performance comparison. \n",
        "\n",
        "Implement the follwoing methods in the lab. \n",
        "- Bisection method\n",
        "- Newton-Raphson method\n",
        "- False Position method\n",
        "- Secand method\n",
        "\n",
        "Go to  [matplotlib.pyplot tutorials](https://matplotlib.org/gallery/index.html#pyplot) for all kinds of help regarding plot. "
      ]
    },
    {
      "cell_type": "markdown",
      "metadata": {
        "id": "5arcEKH0RTrD"
      },
      "source": [
        "### Task 01 : Bisection method ###\n",
        "In this task you have to implement the body of the function `bisection__().` For more about the bisection method please visit [lecture note on bisection](http://mathforcollege.com/nm/mws/gen/03nle/mws_gen_nle_txt_bisection.pdf)"
      ]
    },
    {
      "cell_type": "code",
      "metadata": {
        "id": "8r8DcYPdQcsZ"
      },
      "source": [
        "def bisection__(f, xl, xu, maxIter):\n",
        "# xl: lower bound of approximation\n",
        "# xu: upper bound of approximation\n",
        "# maxIter: maximum number of iterations\n",
        "# threshold: threshold of error in percentage\n",
        "# array_of_approximations: list of all approximation over 50 iterations\n",
        "\n",
        "  array_of_approximations = []\n",
        "\n",
        "  fy = lambdify(x, f)\n",
        "\n",
        "  for i in range (maxIter):\n",
        "    xm = (xl + xu) / 2\n",
        "    array_of_approximations.append(xm)\n",
        "    if(fy(xm) * fy(xl) == 0):\n",
        "      break;\n",
        "    elif(fy(xm) * fy(xl) < 0):\n",
        "      xu = xm\n",
        "    else:\n",
        "      xl =xm\n",
        "    i += 1\n",
        "\n",
        "  return array_of_approximations"
      ],
      "execution_count": null,
      "outputs": []
    },
    {
      "cell_type": "markdown",
      "metadata": {
        "id": "G_eMZ4CaShpF"
      },
      "source": [
        "### Task 02 : Newton Raphson Method ###\n",
        "In this task you have to implement the body of the function` newton__().` For more about the bisection method please visit [lecture note on newton raphson method](https://nm.mathforcollege.com/mws/gen/03nle/mws_gen_nle_txt_newton.pdf)"
      ]
    },
    {
      "cell_type": "code",
      "metadata": {
        "id": "kWnmplEpOrxD"
      },
      "source": [
        "def newton__(y, xo, maxIter):\n",
        "# x0: initial approximation\n",
        "# maxIter: maximum number of iterations\n",
        "# threshold: threshold of error in percentage\n",
        "# array_of_approximations: list of all approximation over 50 iterations\n",
        "  \n",
        "  array_of_approximations = []\n",
        "  #x = Symbol('x')\n",
        "  d = diff(y, x)\n",
        "  yl = lambdify(x, y)\n",
        "  dl = lambdify(x, d)\n",
        "  for i in range (maxIter):\n",
        "    if(dl(xo) == 0):\n",
        "      break\n",
        "    xn = xo - (yl(xo) / dl(xo))\n",
        "    array_of_approximations.append(xn)\n",
        "    xo = xn\n",
        "    i += 1\n",
        "\n",
        "  return array_of_approximations"
      ],
      "execution_count": null,
      "outputs": []
    },
    {
      "cell_type": "markdown",
      "metadata": {
        "id": "Nk-zDTSiTJkJ"
      },
      "source": [
        "### Task 03 : False Position Method ###\n",
        "In this task you have to implement the body of the function `falsePosition__().` For more about the  method please visit [lecture note on false position method](https://nm.mathforcollege.com/mws/gen/03nle/mws_gen_nle_ppt_falseposition.pdf)"
      ]
    },
    {
      "cell_type": "code",
      "metadata": {
        "id": "NRBjcKQsTGmr"
      },
      "source": [
        "def falsePosition__(f, xl, xu, maxIter):\n",
        "# x0: initial approximation\n",
        "# maxIter: maximum number of iterations\n",
        "# threshold: threshold of error in percentage\n",
        "# array_of_approximations: list of all approximation over 50 iterations\n",
        "\n",
        "  array_of_approximations = []\n",
        "\n",
        "  fy = lambdify(x, f)\n",
        "\n",
        "  for i in range (maxIter):\n",
        "    xm = (xu*fy(xl) - xl*fy(xu)) / (fy(xl) - fy(xu))\n",
        "    array_of_approximations.append(xm)\n",
        "    if(fy(xm) * fy(xl) == 0):\n",
        "      break;\n",
        "    elif(fy(xm) * fy(xl) < 0):\n",
        "      xu = xm\n",
        "    else:\n",
        "      xl =xm\n",
        "    i += 1\n",
        "  return array_of_approximations"
      ],
      "execution_count": null,
      "outputs": []
    },
    {
      "cell_type": "markdown",
      "metadata": {
        "id": "uSi57AuETtEm"
      },
      "source": [
        "### Task 04 : Secant Method ###\n",
        "In this task you have to implement the body of the function `secant__()`. For more about the  method please visit [lecture note on secant method](https://nm.mathforcollege.com/mws/gen/03nle/mws_gen_nle_ppt_secant.pdf)"
      ]
    },
    {
      "cell_type": "markdown",
      "metadata": {
        "id": "sZ2cAtXTT0Vm"
      },
      "source": [
        ""
      ]
    },
    {
      "cell_type": "code",
      "metadata": {
        "id": "VuPnxob6TvJ-"
      },
      "source": [
        "def secant__(f, x1, x2, maxIter):\n",
        "# x0: initial approximation\n",
        "# maxIter: maximum number of iterations\n",
        "# threshold: threshold of error in percentage\n",
        "# array_of_approximations: list of all approximation over 50 iterations\n",
        "\n",
        "  array_of_approximations = []\n",
        "\n",
        "  fy = lambdify(x, f)\n",
        "\n",
        "  for i in range (maxIter):\n",
        "    if((fy(x1) - fy(x2)) == 0):\n",
        "      break\n",
        "    xn = x1 - ((fy(x1)*(x1 - x2)) / (fy(x1) - fy(x2)))\n",
        "    array_of_approximations.append(xn)\n",
        "    x1 = x2\n",
        "    x2 = xn\n",
        "    i += 1\n",
        "\n",
        "  return array_of_approximations"
      ],
      "execution_count": null,
      "outputs": []
    },
    {
      "cell_type": "markdown",
      "metadata": {
        "id": "LBRWyRtAULE1"
      },
      "source": [
        "### Task 05 : Calculate the relative approximate error ###\n",
        "Implement the function `calc_error()` which takes a list of assumption as a list and returns a list of relative approximate values. "
      ]
    },
    {
      "cell_type": "code",
      "metadata": {
        "id": "OIqiH46vUont"
      },
      "source": [
        "def calc_error(assumptions):\n",
        "    # assumptions: list of assumptions returned by any previous method implemented successfully\n",
        "    # rel_approx_errors: list of calculated relative approximate error values. \n",
        "    # ** make sure that you use absolute value here.\n",
        "  \n",
        "  rel_approx_errors = []\n",
        "  length = len(assumptions)-1\n",
        "  for i in range(length):\n",
        "    error = (abs(assumptions[i+1] - assumptions[i])) / assumptions[i+1]\n",
        "    rel_approx_errors.append(error*100)\n",
        "\n",
        "  return rel_approx_errors"
      ],
      "execution_count": null,
      "outputs": []
    },
    {
      "cell_type": "markdown",
      "metadata": {
        "id": "ZXggqPmWVWQG"
      },
      "source": [
        "### Task 06: Ploting the errors###\n",
        "Plot all the errors from the previous four methods in one graph to compare their comparative efficiency. Make sure that you use appropriate legend/labels in the plot to differentiate different curves."
      ]
    },
    {
      "cell_type": "code",
      "metadata": {
        "id": "h0g_qQ8UVwRa",
        "colab": {
          "base_uri": "https://localhost:8080/",
          "height": 282
        },
        "outputId": "3e439132-0882-4756-eed3-83122c40bbd4"
      },
      "source": [
        "import numpy as np\n",
        "import matplotlib.pyplot as plt\n",
        "from sympy import *\n",
        "#from math import *\n",
        "\n",
        "def bisection__(f, xl, xu, maxIter):\n",
        "# xl: lower bound of approximation\n",
        "# xu: upper bound of approximation\n",
        "# maxIter: maximum number of iterations\n",
        "# threshold: threshold of error in percentage\n",
        "# array_of_approximations: list of all approximation over 50 iterations\n",
        "\n",
        "  array_of_approximations = []\n",
        "\n",
        "  fy = lambdify(x, f)\n",
        "\n",
        "  for i in range (maxIter):\n",
        "    xm = (xl + xu) / 2\n",
        "    array_of_approximations.append(xm)\n",
        "    if(fy(xm) * fy(xl) == 0):\n",
        "      break;\n",
        "    elif(fy(xm) * fy(xl) < 0):\n",
        "      xu = xm\n",
        "    else:\n",
        "      xl =xm\n",
        "    i += 1\n",
        "\n",
        "  return array_of_approximations\n",
        "\n",
        "def newton__(y, xo, maxIter):\n",
        "# x0: initial approximation\n",
        "# maxIter: maximum number of iterations\n",
        "# threshold: threshold of error in percentage\n",
        "# array_of_approximations: list of all approximation over 50 iterations\n",
        "  \n",
        "  array_of_approximations = []\n",
        "  #x = Symbol('x')\n",
        "  d = diff(y, x)\n",
        "  yl = lambdify(x, y)\n",
        "  dl = lambdify(x, d)\n",
        "  for i in range (maxIter):\n",
        "    if(dl(xo) == 0):\n",
        "      break\n",
        "    xn = xo - (yl(xo) / dl(xo))\n",
        "    array_of_approximations.append(xn)\n",
        "    xo = xn\n",
        "    i += 1\n",
        "\n",
        "  return array_of_approximations\n",
        "\n",
        "def falsePosition__(f, xl, xu, maxIter):\n",
        "# x0: initial approximation\n",
        "# maxIter: maximum number of iterations\n",
        "# threshold: threshold of error in percentage\n",
        "# array_of_approximations: list of all approximation over 50 iterations\n",
        "\n",
        "  array_of_approximations = []\n",
        "\n",
        "  fy = lambdify(x, f)\n",
        "\n",
        "  for i in range (maxIter):\n",
        "    xm = (xu*fy(xl) - xl*fy(xu)) / (fy(xl) - fy(xu))\n",
        "    array_of_approximations.append(xm)\n",
        "    if(fy(xm) * fy(xl) == 0):\n",
        "      break;\n",
        "    elif(fy(xm) * fy(xl) < 0):\n",
        "      xu = xm\n",
        "    else:\n",
        "      xl =xm\n",
        "    i += 1\n",
        "  return array_of_approximations\n",
        "\n",
        "def secant__(f, x1, x2, maxIter):\n",
        "# x0: initial approximation\n",
        "# maxIter: maximum number of iterations\n",
        "# threshold: threshold of error in percentage\n",
        "# array_of_approximations: list of all approximation over 50 iterations\n",
        "\n",
        "  array_of_approximations = []\n",
        "\n",
        "  fy = lambdify(x, f)\n",
        "\n",
        "  for i in range (maxIter):\n",
        "    if((fy(x1) - fy(x2)) == 0):\n",
        "      break\n",
        "    xn = x1 - ((fy(x1)*(x1 - x2)) / (fy(x1) - fy(x2)))\n",
        "    array_of_approximations.append(xn)\n",
        "    x1 = x2\n",
        "    x2 = xn\n",
        "    i += 1\n",
        "\n",
        "  return array_of_approximations\n",
        "\n",
        "def calc_error(assumptions):\n",
        "    # assumptions: list of assumptions returned by any previous method implemented successfully\n",
        "    # rel_approx_errors: list of calculated relative approximate error values. \n",
        "    # ** make sure that you use absolute value here.\n",
        "  \n",
        "  rel_approx_errors = []\n",
        "  length = len(assumptions)-1\n",
        "  for i in range(length):\n",
        "    error = (abs(assumptions[i+1] - assumptions[i])) / assumptions[i+1]\n",
        "    rel_approx_errors.append(error*100)\n",
        "\n",
        "  return rel_approx_errors\n",
        "\n",
        "app_for_bisection = []\n",
        "app_for_falsepos = []\n",
        "app_for_newton = []\n",
        "app_for_secant = []\n",
        "errors_of_bisection = []\n",
        "errors_of_falsepos = []\n",
        "errors_of_newton = []\n",
        "errors_of_secant = []\n",
        "x = Symbol('x')\n",
        "y = x**7 - 6*x**6 + 13*x**5 - 14*x**4 + 12*x**3 - 8*x**2\n",
        "n = 50\n",
        "\n",
        "app_for_bisection = bisection__(y, 1.5, 2.5, n)\n",
        "app_for_falsepos = falsePosition__(y, 1.5, 2.5, n)\n",
        "app_for_newton = newton__(y, 2.5, n)\n",
        "app_for_secant = secant__(y, 2.4, 2.5, n)\n",
        "\n",
        "errors_of_bisection = calc_error(app_for_bisection)\n",
        "errors_of_falsepos = calc_error(app_for_falsepos)\n",
        "errors_of_newton = calc_error(app_for_newton)\n",
        "errors_of_secant = calc_error(app_for_secant)\n",
        "\n",
        "plt.plot(errors_of_bisection, color = \"red\")\n",
        "plt.plot(errors_of_falsepos, color = \"blue\")\n",
        "plt.plot(errors_of_newton, color = \"green\")\n",
        "plt.plot(errors_of_secant, color = \"black\")\n",
        "plt.show"
      ],
      "execution_count": null,
      "outputs": [
        {
          "output_type": "execute_result",
          "data": {
            "text/plain": [
              "<function matplotlib.pyplot.show>"
            ]
          },
          "metadata": {
            "tags": []
          },
          "execution_count": 6
        },
        {
          "output_type": "display_data",
          "data": {
            "image/png": "[encoded data removed]",
            "text/plain": [
              "<Figure size 432x288 with 1 Axes>"
            ]
          },
          "metadata": {
            "tags": []
          }
        }
      ]
    }
  ]
}